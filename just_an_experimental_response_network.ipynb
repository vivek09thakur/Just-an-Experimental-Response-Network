{
  "nbformat": 4,
  "nbformat_minor": 0,
  "metadata": {
    "colab": {
      "provenance": [],
      "toc_visible": true,
      "authorship_tag": "ABX9TyPOOQWaLgaYFJMoK50VSD2q",
      "include_colab_link": true
    },
    "kernelspec": {
      "name": "python3",
      "display_name": "Python 3"
    },
    "language_info": {
      "name": "python"
    }
  },
  "cells": [
    {
      "cell_type": "markdown",
      "metadata": {
        "id": "view-in-github",
        "colab_type": "text"
      },
      "source": [
        "<a href=\"https://colab.research.google.com/github/vivek09thakur/Just-an-Experimental-Response-Network/blob/main/just_an_experimental_response_network.ipynb\" target=\"_parent\"><img src=\"https://colab.research.google.com/assets/colab-badge.svg\" alt=\"Open In Colab\"/></a>"
      ]
    },
    {
      "cell_type": "markdown",
      "source": [
        "# **JUST AN EXPERIMENTAL RESPONSE NETWORK**"
      ],
      "metadata": {
        "id": "ct0dDB444CHB"
      }
    },
    {
      "cell_type": "code",
      "execution_count": 3,
      "metadata": {
        "id": "agQhE4kI3wsT"
      },
      "outputs": [],
      "source": [
        "import torch\n",
        "import random\n",
        "from collections import defaultdict, deque\n",
        "import re"
      ]
    },
    {
      "cell_type": "code",
      "source": [
        "class Vocab:\n",
        "    def __init__(self):\n",
        "        self.w2i = {}\n",
        "        self.i2w = {}\n",
        "        self.counts = defaultdict(int)\n",
        "        self.next_i = 0\n",
        "\n",
        "    def add(self, word):\n",
        "        word = word.lower()\n",
        "        if word not in self.w2i:\n",
        "            self.w2i[word] = self.next_i\n",
        "            self.i2w[self.next_i] = word\n",
        "            self.next_i += 1\n",
        "        self.counts[word] += 1\n",
        "        return self.w2i[word]\n",
        "\n",
        "    def get(self, word):\n",
        "        return self.w2i.get(word.lower(), None)\n",
        "\n",
        "    def __len__(self):\n",
        "        return len(self.w2i)"
      ],
      "metadata": {
        "id": "Kp8HyjkM4OWf"
      },
      "execution_count": 4,
      "outputs": []
    },
    {
      "cell_type": "code",
      "source": [
        "class BaseAgent:\n",
        "    def __init__(self, lr=0.01, gamma=0.9, eps=0.3):\n",
        "        self.lr = lr\n",
        "        self.gamma = gamma\n",
        "        self.eps = eps\n",
        "        self.mem = deque(maxlen=1000)\n",
        "\n",
        "    def remember(self, s, a, r, s_, done):\n",
        "        self.mem.append((s, a, r, s_, done))\n",
        "\n",
        "    def learn(self, batch_size):\n",
        "        if len(self.mem) < batch_size:\n",
        "            return\n",
        "\n",
        "        batch = random.sample(self.mem, batch_size)\n",
        "        for s, a, r, s_, done in batch:\n",
        "            if done:\n",
        "                target = r\n",
        "            else:\n",
        "                target = r + self.gamma * self._max_q(s_)\n",
        "            self._update_q(s, a, target)\n",
        "\n",
        "    def _max_q(self, s):\n",
        "        raise NotImplementedError\n",
        "\n",
        "    def _update_q(self, s, a, target):\n",
        "        raise NotImplementedError"
      ],
      "metadata": {
        "id": "JxlzU4274VSI"
      },
      "execution_count": 5,
      "outputs": []
    },
    {
      "cell_type": "code",
      "source": [
        "class QAgent(BaseAgent):\n",
        "    def __init__(self, lr=0.01, gamma=0.9, eps=0.3):\n",
        "        super().__init__(lr, gamma, eps)\n",
        "        self.q = None\n",
        "        self.s_size = 0\n",
        "        self.a_size = 0\n",
        "\n",
        "    def init_q(self, s_size, a_size):\n",
        "        if self.q is None or s_size != self.s_size or a_size != self.a_size:\n",
        "            self.s_size = s_size\n",
        "            self.a_size = a_size\n",
        "            self.q = defaultdict(lambda: torch.zeros(a_size))\n",
        "\n",
        "    def get_action(self, s):\n",
        "        if random.random() < self.eps:\n",
        "            return random.randint(0, self.a_size - 1)\n",
        "        return torch.argmax(self.q[tuple(s.tolist())]).item()\n",
        "\n",
        "    def _max_q(self, s):\n",
        "        return torch.max(self.q[tuple(s.tolist())])\n",
        "\n",
        "    def _update_q(self, s, a, target):\n",
        "        s_key = tuple(s.tolist())\n",
        "        self.q[s_key][a] += self.lr * (target - self.q[s_key][a])\n"
      ],
      "metadata": {
        "id": "O2DhDpAW432q"
      },
      "execution_count": 6,
      "outputs": []
    },
    {
      "cell_type": "code",
      "source": [
        "class ChatBot(QAgent):\n",
        "    def __init__(self, lr=0.01, gamma=0.9, eps=0.3):\n",
        "        super().__init__(lr, gamma, eps)\n",
        "        self.vocab = Vocab()\n",
        "        self.hist = []\n",
        "        self.last_s = None\n",
        "        self.last_a = None\n",
        "\n",
        "    def tokenize(self, text):\n",
        "        return re.findall(r\"\\w+|[^\\w\\s]\", text.lower())\n",
        "\n",
        "    def process(self, text):\n",
        "        tokens = self.tokenize(text)\n",
        "        for word in tokens:\n",
        "            self.vocab.add(word)\n",
        "\n",
        "        s = torch.zeros(len(self.vocab))\n",
        "        for word in tokens:\n",
        "            i = self.vocab.get(word)\n",
        "            if i is not None:\n",
        "                s[i] += 1\n",
        "\n",
        "        hist_v = torch.zeros(len(self.vocab))\n",
        "        for h_text in self.hist[-3:]:\n",
        "            h_tokens = self.tokenize(h_text)\n",
        "            for word in h_tokens:\n",
        "                i = self.vocab.get(word)\n",
        "                if i is not None:\n",
        "                    hist_v[i] += 1\n",
        "\n",
        "        return torch.cat([s, hist_v])\n",
        "\n",
        "    def gen_resp(self, a):\n",
        "        responses = [\n",
        "            \"Hello! How are you?\",\n",
        "            \"That's interesting. Tell me more.\",\n",
        "            \"I'm still learning. Can you explain that differently?\",\n",
        "            \"Thanks for sharing that with me.\",\n",
        "            \"I understand. What else would you like to talk about?\",\n",
        "            \"Could you clarify that?\",\n",
        "            \"Fascinating!\",\n",
        "            \"I see. And then what happened?\",\n",
        "            \"That's great!\",\n",
        "            \"I'm not sure I follow. Can you rephrase?\"\n",
        "        ]\n",
        "\n",
        "        if a < len(responses):\n",
        "            return responses[a]\n",
        "\n",
        "        words = [w for w in self.vocab.w2i.keys() if self.vocab.counts[w] > 3]\n",
        "        if words:\n",
        "            sample = random.sample(words, min(3, len(words)))\n",
        "            return \"I know these words: \" + \", \".join(sample) + \". Can we talk about them?\"\n",
        "\n",
        "        return \"I'm still learning. Please keep talking to me.\"\n",
        "\n",
        "    def respond(self, text):\n",
        "        s = self.process(text)\n",
        "        self.hist.append(text)\n",
        "\n",
        "        self.init_q(len(s), 20)\n",
        "\n",
        "        a = self.get_action(s)\n",
        "        resp = self.gen_resp(a)\n",
        "        self.hist.append(resp)\n",
        "\n",
        "        r = len(self.tokenize(text)) / 10\n",
        "\n",
        "        if self.last_s is not None:\n",
        "            self.remember(self.last_s, self.last_a, r, s, False)\n",
        "\n",
        "        self.learn(32)\n",
        "\n",
        "        self.last_s = s\n",
        "        self.last_a = a\n",
        "\n",
        "        return resp"
      ],
      "metadata": {
        "id": "WMiYGw1n48KG"
      },
      "execution_count": 7,
      "outputs": []
    },
    {
      "cell_type": "code",
      "source": [
        "if __name__ == \"__main__\":\n",
        "    bot = ChatBot()\n",
        "\n",
        "    print(\"Bot: Hello! I'm a learning bot. Talk to me!\")\n",
        "    print(\"Type 'quit' to exit.\")\n",
        "\n",
        "    while True:\n",
        "        user = input(\"You: \")\n",
        "        if user.lower() == 'quit':\n",
        "            break\n",
        "\n",
        "        resp = bot.respond(user)\n",
        "        print(f\"Bot: {resp}\")\n",
        "\n",
        "        print(f\"[Vocab: {len(bot.vocab)}]\")\n",
        "        if bot.mem:\n",
        "            print(f\"[Memory: {len(bot.mem)}]\")"
      ],
      "metadata": {
        "colab": {
          "base_uri": "https://localhost:8080/"
        },
        "id": "dggONN7O5FrM",
        "outputId": "16787338-c25f-485a-d30a-d6d4ccaa3842"
      },
      "execution_count": 8,
      "outputs": [
        {
          "name": "stdout",
          "output_type": "stream",
          "text": [
            "Bot: Hello! I'm a learning bot. Talk to me!\n",
            "Type 'quit' to exit.\n",
            "You: hello\n",
            "Bot: Hello! How are you?\n",
            "[Vocab: 1]\n",
            "You: hey\n",
            "Bot: Hello! How are you?\n",
            "[Vocab: 2]\n",
            "[Memory: 1]\n",
            "You: i am fine what about you?\n",
            "Bot: Hello! How are you?\n",
            "[Vocab: 9]\n",
            "[Memory: 2]\n",
            "You: i said i am fine\n",
            "Bot: Hello! How are you?\n",
            "[Vocab: 10]\n",
            "[Memory: 3]\n",
            "You: i said that i am fine\n",
            "Bot: I'm not sure I follow. Can you rephrase?\n",
            "[Vocab: 11]\n",
            "[Memory: 4]\n",
            "You: don't u understand what i said?\n",
            "Bot: Hello! How are you?\n",
            "[Vocab: 16]\n",
            "[Memory: 5]\n",
            "You: i said that i am fine\n",
            "Bot: Hello! How are you?\n",
            "[Vocab: 16]\n",
            "[Memory: 6]\n",
            "You: hi, i am fine\n",
            "Bot: I know these words: fine, said, i. Can we talk about them?\n",
            "[Vocab: 18]\n",
            "[Memory: 7]\n",
            "You: q\n",
            "Bot: Hello! How are you?\n",
            "[Vocab: 19]\n",
            "[Memory: 8]\n",
            "You: quit\n"
          ]
        }
      ]
    },
    {
      "cell_type": "code",
      "source": [],
      "metadata": {
        "id": "CrEoR8mu5IKO"
      },
      "execution_count": null,
      "outputs": []
    }
  ]
}